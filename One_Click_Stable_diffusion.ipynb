{
  "nbformat": 4,
  "nbformat_minor": 0,
  "metadata": {
    "colab": {
      "provenance": [],
      "gpuType": "T4"
    },
    "kernelspec": {
      "name": "python3",
      "display_name": "Python 3"
    },
    "language_info": {
      "name": "python"
    },
    "accelerator": "GPU"
  },
  "cells": [
    {
      "cell_type": "code",
      "source": [
        "!git clone https://github.com/AUTOMATIC1111/stable-diffusion-webui\n",
        "%cd stable-diffusion-webui\n",
        "\n",
        "!sed -i -e 's/numpy==1.23.3/numpy==1.21.6/g' requirements_versions.txt\n",
        "!sed -i -e 's/fairscale==0.4.9/fairscale==0.4.6/g' requirements_versions.txt\n",
        "\n",
        "!wget https://huggingface.co/camenduru/sd14/resolve/main/sd-v1-4.ckpt -O /content/stable-diffusion-webui/models/Stable-diffusion/sd-v1-4.ckpt\n",
        "\n",
        "!python launch.py --share --opt-split-attention"
      ],
      "metadata": {
        "id": "iFnikdp2wqqU"
      },
      "execution_count": null,
      "outputs": []
    }
  ]
}